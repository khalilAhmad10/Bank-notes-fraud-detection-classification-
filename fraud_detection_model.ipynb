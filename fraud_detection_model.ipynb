{
  "nbformat": 4,
  "nbformat_minor": 0,
  "metadata": {
    "colab": {
      "name": "fraud detection model.ipynb",
      "provenance": [],
      "collapsed_sections": []
    },
    "kernelspec": {
      "name": "python3",
      "display_name": "Python 3"
    },
    "language_info": {
      "name": "python"
    }
  },
  "cells": [
    {
      "cell_type": "code",
      "execution_count": 1,
      "metadata": {
        "id": "xcW1fgiHlcZI"
      },
      "outputs": [],
      "source": [
        "import pandas as pd\n",
        "import matplotlib.pyplot as plt\n",
        "import seaborn as sns"
      ]
    },
    {
      "cell_type": "code",
      "source": [
        "notes_dataset = pd.read_csv('fraud_detection_bank_dataset.csv')"
      ],
      "metadata": {
        "id": "N7hsPEs9lrq-"
      },
      "execution_count": 6,
      "outputs": []
    },
    {
      "cell_type": "code",
      "source": [
        "# null values \n",
        "notes_dataset.isnull().sum()"
      ],
      "metadata": {
        "colab": {
          "base_uri": "https://localhost:8080/"
        },
        "id": "1ULE65hVl0Mu",
        "outputId": "910d4f2c-2fd7-4c99-bbe2-abf0a6380507"
      },
      "execution_count": 7,
      "outputs": [
        {
          "output_type": "execute_result",
          "data": {
            "text/plain": [
              "Unnamed: 0    0\n",
              "col_0         0\n",
              "col_1         0\n",
              "col_2         0\n",
              "col_3         0\n",
              "             ..\n",
              "col_108       0\n",
              "col_109       0\n",
              "col_110       0\n",
              "col_111       0\n",
              "targets       0\n",
              "Length: 114, dtype: int64"
            ]
          },
          "metadata": {},
          "execution_count": 7
        }
      ]
    },
    {
      "cell_type": "code",
      "source": [
        "notes_dataset = notes_dataset.dropna()"
      ],
      "metadata": {
        "id": "fDgLF5n7l5A9"
      },
      "execution_count": 8,
      "outputs": []
    },
    {
      "cell_type": "code",
      "source": [
        "notes_dataset.shape"
      ],
      "metadata": {
        "colab": {
          "base_uri": "https://localhost:8080/"
        },
        "id": "cKMpn4WBl8eV",
        "outputId": "bde42fa4-9e81-4407-a4a7-d683acd2b5f5"
      },
      "execution_count": 9,
      "outputs": [
        {
          "output_type": "execute_result",
          "data": {
            "text/plain": [
              "(20468, 114)"
            ]
          },
          "metadata": {},
          "execution_count": 9
        }
      ]
    },
    {
      "cell_type": "code",
      "source": [
        "notes_dataset.head()"
      ],
      "metadata": {
        "colab": {
          "base_uri": "https://localhost:8080/",
          "height": 317
        },
        "id": "x-T7WHTOl9DN",
        "outputId": "f4e20fb0-2762-45a2-c3b7-4de945e176e0"
      },
      "execution_count": 10,
      "outputs": [
        {
          "output_type": "execute_result",
          "data": {
            "text/plain": [
              "   Unnamed: 0  col_0  col_1  col_2  col_3  col_4  col_5  col_6  col_7  col_8  \\\n",
              "0           0      9   1354      0     18      0      1      7      9      0   \n",
              "1           1      0    239      0      1      0      1      0      0      0   \n",
              "2           2      0    260      0      4      0      3      6      0      0   \n",
              "3           3     17    682      0      1      0      0      8     17      0   \n",
              "4           4      1    540      0      2      0      1      7      1      0   \n",
              "\n",
              "   ...  col_103  col_104  col_105  col_106  col_107  col_108  col_109  \\\n",
              "0  ...        0        0        0        1        1        0        0   \n",
              "1  ...        0        1        0        0        0        0        0   \n",
              "2  ...        0        0        0        1        1        0        0   \n",
              "3  ...        0        1        0        1        1        0        0   \n",
              "4  ...        0        0        0        1        1        0        0   \n",
              "\n",
              "   col_110  col_111  targets  \n",
              "0        0       49        1  \n",
              "1        0       55        1  \n",
              "2        0       56        1  \n",
              "3        0       65        1  \n",
              "4        0      175        1  \n",
              "\n",
              "[5 rows x 114 columns]"
            ],
            "text/html": [
              "\n",
              "  <div id=\"df-83a764d6-90a8-4cfc-b565-9dbc36151ada\">\n",
              "    <div class=\"colab-df-container\">\n",
              "      <div>\n",
              "<style scoped>\n",
              "    .dataframe tbody tr th:only-of-type {\n",
              "        vertical-align: middle;\n",
              "    }\n",
              "\n",
              "    .dataframe tbody tr th {\n",
              "        vertical-align: top;\n",
              "    }\n",
              "\n",
              "    .dataframe thead th {\n",
              "        text-align: right;\n",
              "    }\n",
              "</style>\n",
              "<table border=\"1\" class=\"dataframe\">\n",
              "  <thead>\n",
              "    <tr style=\"text-align: right;\">\n",
              "      <th></th>\n",
              "      <th>Unnamed: 0</th>\n",
              "      <th>col_0</th>\n",
              "      <th>col_1</th>\n",
              "      <th>col_2</th>\n",
              "      <th>col_3</th>\n",
              "      <th>col_4</th>\n",
              "      <th>col_5</th>\n",
              "      <th>col_6</th>\n",
              "      <th>col_7</th>\n",
              "      <th>col_8</th>\n",
              "      <th>...</th>\n",
              "      <th>col_103</th>\n",
              "      <th>col_104</th>\n",
              "      <th>col_105</th>\n",
              "      <th>col_106</th>\n",
              "      <th>col_107</th>\n",
              "      <th>col_108</th>\n",
              "      <th>col_109</th>\n",
              "      <th>col_110</th>\n",
              "      <th>col_111</th>\n",
              "      <th>targets</th>\n",
              "    </tr>\n",
              "  </thead>\n",
              "  <tbody>\n",
              "    <tr>\n",
              "      <th>0</th>\n",
              "      <td>0</td>\n",
              "      <td>9</td>\n",
              "      <td>1354</td>\n",
              "      <td>0</td>\n",
              "      <td>18</td>\n",
              "      <td>0</td>\n",
              "      <td>1</td>\n",
              "      <td>7</td>\n",
              "      <td>9</td>\n",
              "      <td>0</td>\n",
              "      <td>...</td>\n",
              "      <td>0</td>\n",
              "      <td>0</td>\n",
              "      <td>0</td>\n",
              "      <td>1</td>\n",
              "      <td>1</td>\n",
              "      <td>0</td>\n",
              "      <td>0</td>\n",
              "      <td>0</td>\n",
              "      <td>49</td>\n",
              "      <td>1</td>\n",
              "    </tr>\n",
              "    <tr>\n",
              "      <th>1</th>\n",
              "      <td>1</td>\n",
              "      <td>0</td>\n",
              "      <td>239</td>\n",
              "      <td>0</td>\n",
              "      <td>1</td>\n",
              "      <td>0</td>\n",
              "      <td>1</td>\n",
              "      <td>0</td>\n",
              "      <td>0</td>\n",
              "      <td>0</td>\n",
              "      <td>...</td>\n",
              "      <td>0</td>\n",
              "      <td>1</td>\n",
              "      <td>0</td>\n",
              "      <td>0</td>\n",
              "      <td>0</td>\n",
              "      <td>0</td>\n",
              "      <td>0</td>\n",
              "      <td>0</td>\n",
              "      <td>55</td>\n",
              "      <td>1</td>\n",
              "    </tr>\n",
              "    <tr>\n",
              "      <th>2</th>\n",
              "      <td>2</td>\n",
              "      <td>0</td>\n",
              "      <td>260</td>\n",
              "      <td>0</td>\n",
              "      <td>4</td>\n",
              "      <td>0</td>\n",
              "      <td>3</td>\n",
              "      <td>6</td>\n",
              "      <td>0</td>\n",
              "      <td>0</td>\n",
              "      <td>...</td>\n",
              "      <td>0</td>\n",
              "      <td>0</td>\n",
              "      <td>0</td>\n",
              "      <td>1</td>\n",
              "      <td>1</td>\n",
              "      <td>0</td>\n",
              "      <td>0</td>\n",
              "      <td>0</td>\n",
              "      <td>56</td>\n",
              "      <td>1</td>\n",
              "    </tr>\n",
              "    <tr>\n",
              "      <th>3</th>\n",
              "      <td>3</td>\n",
              "      <td>17</td>\n",
              "      <td>682</td>\n",
              "      <td>0</td>\n",
              "      <td>1</td>\n",
              "      <td>0</td>\n",
              "      <td>0</td>\n",
              "      <td>8</td>\n",
              "      <td>17</td>\n",
              "      <td>0</td>\n",
              "      <td>...</td>\n",
              "      <td>0</td>\n",
              "      <td>1</td>\n",
              "      <td>0</td>\n",
              "      <td>1</td>\n",
              "      <td>1</td>\n",
              "      <td>0</td>\n",
              "      <td>0</td>\n",
              "      <td>0</td>\n",
              "      <td>65</td>\n",
              "      <td>1</td>\n",
              "    </tr>\n",
              "    <tr>\n",
              "      <th>4</th>\n",
              "      <td>4</td>\n",
              "      <td>1</td>\n",
              "      <td>540</td>\n",
              "      <td>0</td>\n",
              "      <td>2</td>\n",
              "      <td>0</td>\n",
              "      <td>1</td>\n",
              "      <td>7</td>\n",
              "      <td>1</td>\n",
              "      <td>0</td>\n",
              "      <td>...</td>\n",
              "      <td>0</td>\n",
              "      <td>0</td>\n",
              "      <td>0</td>\n",
              "      <td>1</td>\n",
              "      <td>1</td>\n",
              "      <td>0</td>\n",
              "      <td>0</td>\n",
              "      <td>0</td>\n",
              "      <td>175</td>\n",
              "      <td>1</td>\n",
              "    </tr>\n",
              "  </tbody>\n",
              "</table>\n",
              "<p>5 rows × 114 columns</p>\n",
              "</div>\n",
              "      <button class=\"colab-df-convert\" onclick=\"convertToInteractive('df-83a764d6-90a8-4cfc-b565-9dbc36151ada')\"\n",
              "              title=\"Convert this dataframe to an interactive table.\"\n",
              "              style=\"display:none;\">\n",
              "        \n",
              "  <svg xmlns=\"http://www.w3.org/2000/svg\" height=\"24px\"viewBox=\"0 0 24 24\"\n",
              "       width=\"24px\">\n",
              "    <path d=\"M0 0h24v24H0V0z\" fill=\"none\"/>\n",
              "    <path d=\"M18.56 5.44l.94 2.06.94-2.06 2.06-.94-2.06-.94-.94-2.06-.94 2.06-2.06.94zm-11 1L8.5 8.5l.94-2.06 2.06-.94-2.06-.94L8.5 2.5l-.94 2.06-2.06.94zm10 10l.94 2.06.94-2.06 2.06-.94-2.06-.94-.94-2.06-.94 2.06-2.06.94z\"/><path d=\"M17.41 7.96l-1.37-1.37c-.4-.4-.92-.59-1.43-.59-.52 0-1.04.2-1.43.59L10.3 9.45l-7.72 7.72c-.78.78-.78 2.05 0 2.83L4 21.41c.39.39.9.59 1.41.59.51 0 1.02-.2 1.41-.59l7.78-7.78 2.81-2.81c.8-.78.8-2.07 0-2.86zM5.41 20L4 18.59l7.72-7.72 1.47 1.35L5.41 20z\"/>\n",
              "  </svg>\n",
              "      </button>\n",
              "      \n",
              "  <style>\n",
              "    .colab-df-container {\n",
              "      display:flex;\n",
              "      flex-wrap:wrap;\n",
              "      gap: 12px;\n",
              "    }\n",
              "\n",
              "    .colab-df-convert {\n",
              "      background-color: #E8F0FE;\n",
              "      border: none;\n",
              "      border-radius: 50%;\n",
              "      cursor: pointer;\n",
              "      display: none;\n",
              "      fill: #1967D2;\n",
              "      height: 32px;\n",
              "      padding: 0 0 0 0;\n",
              "      width: 32px;\n",
              "    }\n",
              "\n",
              "    .colab-df-convert:hover {\n",
              "      background-color: #E2EBFA;\n",
              "      box-shadow: 0px 1px 2px rgba(60, 64, 67, 0.3), 0px 1px 3px 1px rgba(60, 64, 67, 0.15);\n",
              "      fill: #174EA6;\n",
              "    }\n",
              "\n",
              "    [theme=dark] .colab-df-convert {\n",
              "      background-color: #3B4455;\n",
              "      fill: #D2E3FC;\n",
              "    }\n",
              "\n",
              "    [theme=dark] .colab-df-convert:hover {\n",
              "      background-color: #434B5C;\n",
              "      box-shadow: 0px 1px 3px 1px rgba(0, 0, 0, 0.15);\n",
              "      filter: drop-shadow(0px 1px 2px rgba(0, 0, 0, 0.3));\n",
              "      fill: #FFFFFF;\n",
              "    }\n",
              "  </style>\n",
              "\n",
              "      <script>\n",
              "        const buttonEl =\n",
              "          document.querySelector('#df-83a764d6-90a8-4cfc-b565-9dbc36151ada button.colab-df-convert');\n",
              "        buttonEl.style.display =\n",
              "          google.colab.kernel.accessAllowed ? 'block' : 'none';\n",
              "\n",
              "        async function convertToInteractive(key) {\n",
              "          const element = document.querySelector('#df-83a764d6-90a8-4cfc-b565-9dbc36151ada');\n",
              "          const dataTable =\n",
              "            await google.colab.kernel.invokeFunction('convertToInteractive',\n",
              "                                                     [key], {});\n",
              "          if (!dataTable) return;\n",
              "\n",
              "          const docLinkHtml = 'Like what you see? Visit the ' +\n",
              "            '<a target=\"_blank\" href=https://colab.research.google.com/notebooks/data_table.ipynb>data table notebook</a>'\n",
              "            + ' to learn more about interactive tables.';\n",
              "          element.innerHTML = '';\n",
              "          dataTable['output_type'] = 'display_data';\n",
              "          await google.colab.output.renderOutput(dataTable, element);\n",
              "          const docLink = document.createElement('div');\n",
              "          docLink.innerHTML = docLinkHtml;\n",
              "          element.appendChild(docLink);\n",
              "        }\n",
              "      </script>\n",
              "    </div>\n",
              "  </div>\n",
              "  "
            ]
          },
          "metadata": {},
          "execution_count": 10
        }
      ]
    },
    {
      "cell_type": "markdown",
      "source": [
        "# Data set Descriptive statitics"
      ],
      "metadata": {
        "id": "eP8_s4l1mK9t"
      }
    },
    {
      "cell_type": "code",
      "source": [
        "!pip install datatile"
      ],
      "metadata": {
        "id": "kFUgKL8bmB8V"
      },
      "execution_count": null,
      "outputs": []
    },
    {
      "cell_type": "code",
      "source": [
        "from datatile.summary.df import DataFrameSummary\n",
        "\n",
        "notes_des = DataFrameSummary(notes_dataset)"
      ],
      "metadata": {
        "id": "iSW5aZstmJu3"
      },
      "execution_count": 71,
      "outputs": []
    },
    {
      "cell_type": "code",
      "source": [
        "notes_des.columns_stats.T"
      ],
      "metadata": {
        "colab": {
          "base_uri": "https://localhost:8080/",
          "height": 424
        },
        "id": "AbSFNdJOmPdW",
        "outputId": "cb37cb75-a22f-4140-9a27-211c98039ab5"
      },
      "execution_count": 72,
      "outputs": [
        {
          "output_type": "execute_result",
          "data": {
            "text/plain": [
              "           counts uniques missing missing_perc    types\n",
              "Unnamed: 0  20468   20468       0           0%  numeric\n",
              "col_0       20468     142       0           0%  numeric\n",
              "col_1       20468    1920       0           0%  numeric\n",
              "col_2       20468      53       0           0%  numeric\n",
              "col_3       20468     115       0           0%  numeric\n",
              "...           ...     ...     ...          ...      ...\n",
              "col_108     20468       2       0           0%     bool\n",
              "col_109     20468       2       0           0%     bool\n",
              "col_110     20468      13       0           0%  numeric\n",
              "col_111     20468     381       0           0%  numeric\n",
              "targets     20468       2       0           0%     bool\n",
              "\n",
              "[114 rows x 5 columns]"
            ],
            "text/html": [
              "\n",
              "  <div id=\"df-e1c231d6-27fb-444a-976f-c83765f61b4c\">\n",
              "    <div class=\"colab-df-container\">\n",
              "      <div>\n",
              "<style scoped>\n",
              "    .dataframe tbody tr th:only-of-type {\n",
              "        vertical-align: middle;\n",
              "    }\n",
              "\n",
              "    .dataframe tbody tr th {\n",
              "        vertical-align: top;\n",
              "    }\n",
              "\n",
              "    .dataframe thead th {\n",
              "        text-align: right;\n",
              "    }\n",
              "</style>\n",
              "<table border=\"1\" class=\"dataframe\">\n",
              "  <thead>\n",
              "    <tr style=\"text-align: right;\">\n",
              "      <th></th>\n",
              "      <th>counts</th>\n",
              "      <th>uniques</th>\n",
              "      <th>missing</th>\n",
              "      <th>missing_perc</th>\n",
              "      <th>types</th>\n",
              "    </tr>\n",
              "  </thead>\n",
              "  <tbody>\n",
              "    <tr>\n",
              "      <th>Unnamed: 0</th>\n",
              "      <td>20468</td>\n",
              "      <td>20468</td>\n",
              "      <td>0</td>\n",
              "      <td>0%</td>\n",
              "      <td>numeric</td>\n",
              "    </tr>\n",
              "    <tr>\n",
              "      <th>col_0</th>\n",
              "      <td>20468</td>\n",
              "      <td>142</td>\n",
              "      <td>0</td>\n",
              "      <td>0%</td>\n",
              "      <td>numeric</td>\n",
              "    </tr>\n",
              "    <tr>\n",
              "      <th>col_1</th>\n",
              "      <td>20468</td>\n",
              "      <td>1920</td>\n",
              "      <td>0</td>\n",
              "      <td>0%</td>\n",
              "      <td>numeric</td>\n",
              "    </tr>\n",
              "    <tr>\n",
              "      <th>col_2</th>\n",
              "      <td>20468</td>\n",
              "      <td>53</td>\n",
              "      <td>0</td>\n",
              "      <td>0%</td>\n",
              "      <td>numeric</td>\n",
              "    </tr>\n",
              "    <tr>\n",
              "      <th>col_3</th>\n",
              "      <td>20468</td>\n",
              "      <td>115</td>\n",
              "      <td>0</td>\n",
              "      <td>0%</td>\n",
              "      <td>numeric</td>\n",
              "    </tr>\n",
              "    <tr>\n",
              "      <th>...</th>\n",
              "      <td>...</td>\n",
              "      <td>...</td>\n",
              "      <td>...</td>\n",
              "      <td>...</td>\n",
              "      <td>...</td>\n",
              "    </tr>\n",
              "    <tr>\n",
              "      <th>col_108</th>\n",
              "      <td>20468</td>\n",
              "      <td>2</td>\n",
              "      <td>0</td>\n",
              "      <td>0%</td>\n",
              "      <td>bool</td>\n",
              "    </tr>\n",
              "    <tr>\n",
              "      <th>col_109</th>\n",
              "      <td>20468</td>\n",
              "      <td>2</td>\n",
              "      <td>0</td>\n",
              "      <td>0%</td>\n",
              "      <td>bool</td>\n",
              "    </tr>\n",
              "    <tr>\n",
              "      <th>col_110</th>\n",
              "      <td>20468</td>\n",
              "      <td>13</td>\n",
              "      <td>0</td>\n",
              "      <td>0%</td>\n",
              "      <td>numeric</td>\n",
              "    </tr>\n",
              "    <tr>\n",
              "      <th>col_111</th>\n",
              "      <td>20468</td>\n",
              "      <td>381</td>\n",
              "      <td>0</td>\n",
              "      <td>0%</td>\n",
              "      <td>numeric</td>\n",
              "    </tr>\n",
              "    <tr>\n",
              "      <th>targets</th>\n",
              "      <td>20468</td>\n",
              "      <td>2</td>\n",
              "      <td>0</td>\n",
              "      <td>0%</td>\n",
              "      <td>bool</td>\n",
              "    </tr>\n",
              "  </tbody>\n",
              "</table>\n",
              "<p>114 rows × 5 columns</p>\n",
              "</div>\n",
              "      <button class=\"colab-df-convert\" onclick=\"convertToInteractive('df-e1c231d6-27fb-444a-976f-c83765f61b4c')\"\n",
              "              title=\"Convert this dataframe to an interactive table.\"\n",
              "              style=\"display:none;\">\n",
              "        \n",
              "  <svg xmlns=\"http://www.w3.org/2000/svg\" height=\"24px\"viewBox=\"0 0 24 24\"\n",
              "       width=\"24px\">\n",
              "    <path d=\"M0 0h24v24H0V0z\" fill=\"none\"/>\n",
              "    <path d=\"M18.56 5.44l.94 2.06.94-2.06 2.06-.94-2.06-.94-.94-2.06-.94 2.06-2.06.94zm-11 1L8.5 8.5l.94-2.06 2.06-.94-2.06-.94L8.5 2.5l-.94 2.06-2.06.94zm10 10l.94 2.06.94-2.06 2.06-.94-2.06-.94-.94-2.06-.94 2.06-2.06.94z\"/><path d=\"M17.41 7.96l-1.37-1.37c-.4-.4-.92-.59-1.43-.59-.52 0-1.04.2-1.43.59L10.3 9.45l-7.72 7.72c-.78.78-.78 2.05 0 2.83L4 21.41c.39.39.9.59 1.41.59.51 0 1.02-.2 1.41-.59l7.78-7.78 2.81-2.81c.8-.78.8-2.07 0-2.86zM5.41 20L4 18.59l7.72-7.72 1.47 1.35L5.41 20z\"/>\n",
              "  </svg>\n",
              "      </button>\n",
              "      \n",
              "  <style>\n",
              "    .colab-df-container {\n",
              "      display:flex;\n",
              "      flex-wrap:wrap;\n",
              "      gap: 12px;\n",
              "    }\n",
              "\n",
              "    .colab-df-convert {\n",
              "      background-color: #E8F0FE;\n",
              "      border: none;\n",
              "      border-radius: 50%;\n",
              "      cursor: pointer;\n",
              "      display: none;\n",
              "      fill: #1967D2;\n",
              "      height: 32px;\n",
              "      padding: 0 0 0 0;\n",
              "      width: 32px;\n",
              "    }\n",
              "\n",
              "    .colab-df-convert:hover {\n",
              "      background-color: #E2EBFA;\n",
              "      box-shadow: 0px 1px 2px rgba(60, 64, 67, 0.3), 0px 1px 3px 1px rgba(60, 64, 67, 0.15);\n",
              "      fill: #174EA6;\n",
              "    }\n",
              "\n",
              "    [theme=dark] .colab-df-convert {\n",
              "      background-color: #3B4455;\n",
              "      fill: #D2E3FC;\n",
              "    }\n",
              "\n",
              "    [theme=dark] .colab-df-convert:hover {\n",
              "      background-color: #434B5C;\n",
              "      box-shadow: 0px 1px 3px 1px rgba(0, 0, 0, 0.15);\n",
              "      filter: drop-shadow(0px 1px 2px rgba(0, 0, 0, 0.3));\n",
              "      fill: #FFFFFF;\n",
              "    }\n",
              "  </style>\n",
              "\n",
              "      <script>\n",
              "        const buttonEl =\n",
              "          document.querySelector('#df-e1c231d6-27fb-444a-976f-c83765f61b4c button.colab-df-convert');\n",
              "        buttonEl.style.display =\n",
              "          google.colab.kernel.accessAllowed ? 'block' : 'none';\n",
              "\n",
              "        async function convertToInteractive(key) {\n",
              "          const element = document.querySelector('#df-e1c231d6-27fb-444a-976f-c83765f61b4c');\n",
              "          const dataTable =\n",
              "            await google.colab.kernel.invokeFunction('convertToInteractive',\n",
              "                                                     [key], {});\n",
              "          if (!dataTable) return;\n",
              "\n",
              "          const docLinkHtml = 'Like what you see? Visit the ' +\n",
              "            '<a target=\"_blank\" href=https://colab.research.google.com/notebooks/data_table.ipynb>data table notebook</a>'\n",
              "            + ' to learn more about interactive tables.';\n",
              "          element.innerHTML = '';\n",
              "          dataTable['output_type'] = 'display_data';\n",
              "          await google.colab.output.renderOutput(dataTable, element);\n",
              "          const docLink = document.createElement('div');\n",
              "          docLink.innerHTML = docLinkHtml;\n",
              "          element.appendChild(docLink);\n",
              "        }\n",
              "      </script>\n",
              "    </div>\n",
              "  </div>\n",
              "  "
            ]
          },
          "metadata": {},
          "execution_count": 72
        }
      ]
    },
    {
      "cell_type": "code",
      "source": [
        "notes_dataset.columns"
      ],
      "metadata": {
        "colab": {
          "base_uri": "https://localhost:8080/"
        },
        "id": "LjE2sX7fxG1C",
        "outputId": "2c596859-2170-40d3-8564-3498d7709e35"
      },
      "execution_count": 73,
      "outputs": [
        {
          "output_type": "execute_result",
          "data": {
            "text/plain": [
              "Index(['Unnamed: 0', 'col_0', 'col_1', 'col_2', 'col_3', 'col_4', 'col_5',\n",
              "       'col_6', 'col_7', 'col_8',\n",
              "       ...\n",
              "       'col_103', 'col_104', 'col_105', 'col_106', 'col_107', 'col_108',\n",
              "       'col_109', 'col_110', 'col_111', 'targets'],\n",
              "      dtype='object', length=114)"
            ]
          },
          "metadata": {},
          "execution_count": 73
        }
      ]
    },
    {
      "cell_type": "code",
      "source": [
        "notes_dataset.describe().T"
      ],
      "metadata": {
        "colab": {
          "base_uri": "https://localhost:8080/",
          "height": 424
        },
        "id": "wfeCxt-8n6EN",
        "outputId": "474a3e46-18df-41b6-dcec-084734eef5cf"
      },
      "execution_count": 74,
      "outputs": [
        {
          "output_type": "execute_result",
          "data": {
            "text/plain": [
              "              count          mean          std  min      25%      50%  \\\n",
              "Unnamed: 0  20468.0  10233.500000  5908.746991  0.0  5116.75  10233.5   \n",
              "col_0       20468.0      3.226256    20.564308  0.0     0.00      0.0   \n",
              "col_1       20468.0    294.793043   717.541984  0.0    38.00     97.0   \n",
              "col_2       20468.0      0.420021     7.367275  0.0     0.00      0.0   \n",
              "col_3       20468.0      2.329343    10.068512  0.0     0.00      1.0   \n",
              "...             ...           ...          ...  ...      ...      ...   \n",
              "col_108     20468.0      0.000049     0.006990  0.0     0.00      0.0   \n",
              "col_109     20468.0      0.049345     0.216593  0.0     0.00      0.0   \n",
              "col_110     20468.0      0.024282     0.305079  0.0     0.00      0.0   \n",
              "col_111     20468.0     43.486125    59.217560  0.0     5.00     19.0   \n",
              "targets     20468.0      0.265683     0.441707  0.0     0.00      0.0   \n",
              "\n",
              "                 75%      max  \n",
              "Unnamed: 0  15350.25  20467.0  \n",
              "col_0           2.00   2301.0  \n",
              "col_1         283.00  37808.0  \n",
              "col_2           0.00    904.0  \n",
              "col_3           2.00    772.0  \n",
              "...              ...      ...  \n",
              "col_108         0.00      1.0  \n",
              "col_109         0.00      1.0  \n",
              "col_110         0.00     17.0  \n",
              "col_111        61.25    747.0  \n",
              "targets         1.00      1.0  \n",
              "\n",
              "[114 rows x 8 columns]"
            ],
            "text/html": [
              "\n",
              "  <div id=\"df-6e74d5e3-c151-49dc-a4ec-69cba6560a4e\">\n",
              "    <div class=\"colab-df-container\">\n",
              "      <div>\n",
              "<style scoped>\n",
              "    .dataframe tbody tr th:only-of-type {\n",
              "        vertical-align: middle;\n",
              "    }\n",
              "\n",
              "    .dataframe tbody tr th {\n",
              "        vertical-align: top;\n",
              "    }\n",
              "\n",
              "    .dataframe thead th {\n",
              "        text-align: right;\n",
              "    }\n",
              "</style>\n",
              "<table border=\"1\" class=\"dataframe\">\n",
              "  <thead>\n",
              "    <tr style=\"text-align: right;\">\n",
              "      <th></th>\n",
              "      <th>count</th>\n",
              "      <th>mean</th>\n",
              "      <th>std</th>\n",
              "      <th>min</th>\n",
              "      <th>25%</th>\n",
              "      <th>50%</th>\n",
              "      <th>75%</th>\n",
              "      <th>max</th>\n",
              "    </tr>\n",
              "  </thead>\n",
              "  <tbody>\n",
              "    <tr>\n",
              "      <th>Unnamed: 0</th>\n",
              "      <td>20468.0</td>\n",
              "      <td>10233.500000</td>\n",
              "      <td>5908.746991</td>\n",
              "      <td>0.0</td>\n",
              "      <td>5116.75</td>\n",
              "      <td>10233.5</td>\n",
              "      <td>15350.25</td>\n",
              "      <td>20467.0</td>\n",
              "    </tr>\n",
              "    <tr>\n",
              "      <th>col_0</th>\n",
              "      <td>20468.0</td>\n",
              "      <td>3.226256</td>\n",
              "      <td>20.564308</td>\n",
              "      <td>0.0</td>\n",
              "      <td>0.00</td>\n",
              "      <td>0.0</td>\n",
              "      <td>2.00</td>\n",
              "      <td>2301.0</td>\n",
              "    </tr>\n",
              "    <tr>\n",
              "      <th>col_1</th>\n",
              "      <td>20468.0</td>\n",
              "      <td>294.793043</td>\n",
              "      <td>717.541984</td>\n",
              "      <td>0.0</td>\n",
              "      <td>38.00</td>\n",
              "      <td>97.0</td>\n",
              "      <td>283.00</td>\n",
              "      <td>37808.0</td>\n",
              "    </tr>\n",
              "    <tr>\n",
              "      <th>col_2</th>\n",
              "      <td>20468.0</td>\n",
              "      <td>0.420021</td>\n",
              "      <td>7.367275</td>\n",
              "      <td>0.0</td>\n",
              "      <td>0.00</td>\n",
              "      <td>0.0</td>\n",
              "      <td>0.00</td>\n",
              "      <td>904.0</td>\n",
              "    </tr>\n",
              "    <tr>\n",
              "      <th>col_3</th>\n",
              "      <td>20468.0</td>\n",
              "      <td>2.329343</td>\n",
              "      <td>10.068512</td>\n",
              "      <td>0.0</td>\n",
              "      <td>0.00</td>\n",
              "      <td>1.0</td>\n",
              "      <td>2.00</td>\n",
              "      <td>772.0</td>\n",
              "    </tr>\n",
              "    <tr>\n",
              "      <th>...</th>\n",
              "      <td>...</td>\n",
              "      <td>...</td>\n",
              "      <td>...</td>\n",
              "      <td>...</td>\n",
              "      <td>...</td>\n",
              "      <td>...</td>\n",
              "      <td>...</td>\n",
              "      <td>...</td>\n",
              "    </tr>\n",
              "    <tr>\n",
              "      <th>col_108</th>\n",
              "      <td>20468.0</td>\n",
              "      <td>0.000049</td>\n",
              "      <td>0.006990</td>\n",
              "      <td>0.0</td>\n",
              "      <td>0.00</td>\n",
              "      <td>0.0</td>\n",
              "      <td>0.00</td>\n",
              "      <td>1.0</td>\n",
              "    </tr>\n",
              "    <tr>\n",
              "      <th>col_109</th>\n",
              "      <td>20468.0</td>\n",
              "      <td>0.049345</td>\n",
              "      <td>0.216593</td>\n",
              "      <td>0.0</td>\n",
              "      <td>0.00</td>\n",
              "      <td>0.0</td>\n",
              "      <td>0.00</td>\n",
              "      <td>1.0</td>\n",
              "    </tr>\n",
              "    <tr>\n",
              "      <th>col_110</th>\n",
              "      <td>20468.0</td>\n",
              "      <td>0.024282</td>\n",
              "      <td>0.305079</td>\n",
              "      <td>0.0</td>\n",
              "      <td>0.00</td>\n",
              "      <td>0.0</td>\n",
              "      <td>0.00</td>\n",
              "      <td>17.0</td>\n",
              "    </tr>\n",
              "    <tr>\n",
              "      <th>col_111</th>\n",
              "      <td>20468.0</td>\n",
              "      <td>43.486125</td>\n",
              "      <td>59.217560</td>\n",
              "      <td>0.0</td>\n",
              "      <td>5.00</td>\n",
              "      <td>19.0</td>\n",
              "      <td>61.25</td>\n",
              "      <td>747.0</td>\n",
              "    </tr>\n",
              "    <tr>\n",
              "      <th>targets</th>\n",
              "      <td>20468.0</td>\n",
              "      <td>0.265683</td>\n",
              "      <td>0.441707</td>\n",
              "      <td>0.0</td>\n",
              "      <td>0.00</td>\n",
              "      <td>0.0</td>\n",
              "      <td>1.00</td>\n",
              "      <td>1.0</td>\n",
              "    </tr>\n",
              "  </tbody>\n",
              "</table>\n",
              "<p>114 rows × 8 columns</p>\n",
              "</div>\n",
              "      <button class=\"colab-df-convert\" onclick=\"convertToInteractive('df-6e74d5e3-c151-49dc-a4ec-69cba6560a4e')\"\n",
              "              title=\"Convert this dataframe to an interactive table.\"\n",
              "              style=\"display:none;\">\n",
              "        \n",
              "  <svg xmlns=\"http://www.w3.org/2000/svg\" height=\"24px\"viewBox=\"0 0 24 24\"\n",
              "       width=\"24px\">\n",
              "    <path d=\"M0 0h24v24H0V0z\" fill=\"none\"/>\n",
              "    <path d=\"M18.56 5.44l.94 2.06.94-2.06 2.06-.94-2.06-.94-.94-2.06-.94 2.06-2.06.94zm-11 1L8.5 8.5l.94-2.06 2.06-.94-2.06-.94L8.5 2.5l-.94 2.06-2.06.94zm10 10l.94 2.06.94-2.06 2.06-.94-2.06-.94-.94-2.06-.94 2.06-2.06.94z\"/><path d=\"M17.41 7.96l-1.37-1.37c-.4-.4-.92-.59-1.43-.59-.52 0-1.04.2-1.43.59L10.3 9.45l-7.72 7.72c-.78.78-.78 2.05 0 2.83L4 21.41c.39.39.9.59 1.41.59.51 0 1.02-.2 1.41-.59l7.78-7.78 2.81-2.81c.8-.78.8-2.07 0-2.86zM5.41 20L4 18.59l7.72-7.72 1.47 1.35L5.41 20z\"/>\n",
              "  </svg>\n",
              "      </button>\n",
              "      \n",
              "  <style>\n",
              "    .colab-df-container {\n",
              "      display:flex;\n",
              "      flex-wrap:wrap;\n",
              "      gap: 12px;\n",
              "    }\n",
              "\n",
              "    .colab-df-convert {\n",
              "      background-color: #E8F0FE;\n",
              "      border: none;\n",
              "      border-radius: 50%;\n",
              "      cursor: pointer;\n",
              "      display: none;\n",
              "      fill: #1967D2;\n",
              "      height: 32px;\n",
              "      padding: 0 0 0 0;\n",
              "      width: 32px;\n",
              "    }\n",
              "\n",
              "    .colab-df-convert:hover {\n",
              "      background-color: #E2EBFA;\n",
              "      box-shadow: 0px 1px 2px rgba(60, 64, 67, 0.3), 0px 1px 3px 1px rgba(60, 64, 67, 0.15);\n",
              "      fill: #174EA6;\n",
              "    }\n",
              "\n",
              "    [theme=dark] .colab-df-convert {\n",
              "      background-color: #3B4455;\n",
              "      fill: #D2E3FC;\n",
              "    }\n",
              "\n",
              "    [theme=dark] .colab-df-convert:hover {\n",
              "      background-color: #434B5C;\n",
              "      box-shadow: 0px 1px 3px 1px rgba(0, 0, 0, 0.15);\n",
              "      filter: drop-shadow(0px 1px 2px rgba(0, 0, 0, 0.3));\n",
              "      fill: #FFFFFF;\n",
              "    }\n",
              "  </style>\n",
              "\n",
              "      <script>\n",
              "        const buttonEl =\n",
              "          document.querySelector('#df-6e74d5e3-c151-49dc-a4ec-69cba6560a4e button.colab-df-convert');\n",
              "        buttonEl.style.display =\n",
              "          google.colab.kernel.accessAllowed ? 'block' : 'none';\n",
              "\n",
              "        async function convertToInteractive(key) {\n",
              "          const element = document.querySelector('#df-6e74d5e3-c151-49dc-a4ec-69cba6560a4e');\n",
              "          const dataTable =\n",
              "            await google.colab.kernel.invokeFunction('convertToInteractive',\n",
              "                                                     [key], {});\n",
              "          if (!dataTable) return;\n",
              "\n",
              "          const docLinkHtml = 'Like what you see? Visit the ' +\n",
              "            '<a target=\"_blank\" href=https://colab.research.google.com/notebooks/data_table.ipynb>data table notebook</a>'\n",
              "            + ' to learn more about interactive tables.';\n",
              "          element.innerHTML = '';\n",
              "          dataTable['output_type'] = 'display_data';\n",
              "          await google.colab.output.renderOutput(dataTable, element);\n",
              "          const docLink = document.createElement('div');\n",
              "          docLink.innerHTML = docLinkHtml;\n",
              "          element.appendChild(docLink);\n",
              "        }\n",
              "      </script>\n",
              "    </div>\n",
              "  </div>\n",
              "  "
            ]
          },
          "metadata": {},
          "execution_count": 74
        }
      ]
    },
    {
      "cell_type": "code",
      "source": [
        "notes_dataset.dtypes"
      ],
      "metadata": {
        "colab": {
          "base_uri": "https://localhost:8080/"
        },
        "id": "wSvsA2tGuK96",
        "outputId": "c3900975-b7fc-4da7-9bb2-febdcd7bd6e1"
      },
      "execution_count": 75,
      "outputs": [
        {
          "output_type": "execute_result",
          "data": {
            "text/plain": [
              "Unnamed: 0    int64\n",
              "col_0         int64\n",
              "col_1         int64\n",
              "col_2         int64\n",
              "col_3         int64\n",
              "              ...  \n",
              "col_108       int64\n",
              "col_109       int64\n",
              "col_110       int64\n",
              "col_111       int64\n",
              "targets       int64\n",
              "Length: 114, dtype: object"
            ]
          },
          "metadata": {},
          "execution_count": 75
        }
      ]
    },
    {
      "cell_type": "markdown",
      "source": [
        "#  Visualizations"
      ],
      "metadata": {
        "id": "HaiM8Emln-B0"
      }
    },
    {
      "cell_type": "code",
      "source": [
        "# plotting 20 largest parameters of column 1\n",
        "\n",
        "notes_dataset['col_1'].value_counts().nlargest(20).plot(kind='pie', autopct='%1.1f%%', figsize = (10,10))\n",
        "\n",
        "plt.title('plotting 20 largest parameters of column 1')"
      ],
      "metadata": {
        "colab": {
          "base_uri": "https://localhost:8080/",
          "height": 608
        },
        "id": "YwYzudV_mP3N",
        "outputId": "00429da0-3961-4eaf-fdd4-1fbbfe6a9032"
      },
      "execution_count": 116,
      "outputs": [
        {
          "output_type": "execute_result",
          "data": {
            "text/plain": [
              "Text(0.5, 1.0, 'plotting 20 largest parameters of column 1')"
            ]
          },
          "metadata": {},
          "execution_count": 116
        },
        {
          "output_type": "display_data",
          "data": {
            "text/plain": [
              "<Figure size 720x720 with 1 Axes>"
            ],
            "image/png": "[encoded data removed]"
          },
          "metadata": {}
        }
      ]
    },
    {
      "cell_type": "code",
      "source": [
        "# target samples\n",
        "plt.figure(figsize=(15,8))\n",
        "sns.countplot(notes_dataset['targets'])\n",
        "plt.title('Targets classification')"
      ],
      "metadata": {
        "colab": {
          "base_uri": "https://localhost:8080/",
          "height": 585
        },
        "id": "_BYDrQtymj8F",
        "outputId": "7f952203-0b58-42bb-95b9-dbc4aa2afcd1"
      },
      "execution_count": 83,
      "outputs": [
        {
          "output_type": "stream",
          "name": "stderr",
          "text": [
            "/usr/local/lib/python3.7/dist-packages/seaborn/_decorators.py:43: FutureWarning: Pass the following variable as a keyword arg: x. From version 0.12, the only valid positional argument will be `data`, and passing other arguments without an explicit keyword will result in an error or misinterpretation.\n",
            "  FutureWarning\n"
          ]
        },
        {
          "output_type": "execute_result",
          "data": {
            "text/plain": [
              "Text(0.5, 1.0, 'Targets classification')"
            ]
          },
          "metadata": {},
          "execution_count": 83
        },
        {
          "output_type": "display_data",
          "data": {
            "text/plain": [
              "<Figure size 1080x576 with 1 Axes>"
            ],
            "image/png": "[encoded data removed]"
          },
          "metadata": {
            "needs_background": "light"
          }
        }
      ]
    },
    {
      "cell_type": "markdown",
      "source": [
        "# word cloud to get the maximum frequency"
      ],
      "metadata": {
        "id": "By1qijrAts_5"
      }
    },
    {
      "cell_type": "code",
      "source": [
        "# top 15 longest duration movies\n",
        "notes_dataset['col_1'].value_counts().nlargest(10).plot(kind='pie', autopct='%1.1f%%', figsize = (20,8))\n",
        "plt.title('column 1 data presentation')"
      ],
      "metadata": {
        "colab": {
          "base_uri": "https://localhost:8080/",
          "height": 499
        },
        "id": "NwKaYlo-o2SU",
        "outputId": "767f0fb2-a02d-4546-fcf0-4616945d74b2"
      },
      "execution_count": 85,
      "outputs": [
        {
          "output_type": "execute_result",
          "data": {
            "text/plain": [
              "Text(0.5, 1.0, 'column 1 data presentation')"
            ]
          },
          "metadata": {},
          "execution_count": 85
        },
        {
          "output_type": "display_data",
          "data": {
            "text/plain": [
              "<Figure size 1440x576 with 1 Axes>"
            ],
            "image/png": "[encoded data removed]"
          },
          "metadata": {}
        }
      ]
    },
    {
      "cell_type": "markdown",
      "source": [
        "# Data Preprocessing"
      ],
      "metadata": {
        "id": "QWSjPGjFvFsY"
      }
    },
    {
      "cell_type": "code",
      "source": [
        "#drop the targets column from the data\n",
        "x = notes_dataset.drop(columns = ['targets'])\n",
        "y = notes_dataset['targets']"
      ],
      "metadata": {
        "id": "pbRQ_OHdyF9R"
      },
      "execution_count": 87,
      "outputs": []
    },
    {
      "cell_type": "markdown",
      "source": [
        "# Data splitting "
      ],
      "metadata": {
        "id": "wDmDFw7gyYQB"
      }
    },
    {
      "cell_type": "code",
      "source": [
        "from sklearn.model_selection import train_test_split\n",
        "x_train, x_test, y_train, y_test = train_test_split(x, y, test_size = 0.3)"
      ],
      "metadata": {
        "id": "xHiD2dBMyCSX"
      },
      "execution_count": 88,
      "outputs": []
    },
    {
      "cell_type": "code",
      "source": [
        "x_train.shape"
      ],
      "metadata": {
        "colab": {
          "base_uri": "https://localhost:8080/"
        },
        "id": "V_DkNtZKygxG",
        "outputId": "aaf75ca4-8db7-48a1-bd80-a0c86ec58983"
      },
      "execution_count": 89,
      "outputs": [
        {
          "output_type": "execute_result",
          "data": {
            "text/plain": [
              "(14327, 113)"
            ]
          },
          "metadata": {},
          "execution_count": 89
        }
      ]
    },
    {
      "cell_type": "code",
      "source": [
        "x_test.shape"
      ],
      "metadata": {
        "colab": {
          "base_uri": "https://localhost:8080/"
        },
        "id": "ARe_XfN0yh-2",
        "outputId": "55b8984d-06aa-4b73-95db-775384834bad"
      },
      "execution_count": 90,
      "outputs": [
        {
          "output_type": "execute_result",
          "data": {
            "text/plain": [
              "(6141, 113)"
            ]
          },
          "metadata": {},
          "execution_count": 90
        }
      ]
    },
    {
      "cell_type": "markdown",
      "source": [
        "# Data Standardization"
      ],
      "metadata": {
        "id": "36OgbovKytjZ"
      }
    },
    {
      "cell_type": "code",
      "source": [
        "from sklearn.preprocessing import StandardScaler"
      ],
      "metadata": {
        "id": "M-Qg1vR5ywhn"
      },
      "execution_count": 91,
      "outputs": []
    },
    {
      "cell_type": "code",
      "source": [
        "#standardize the data\n",
        "standard = StandardScaler()\n",
        "xs_train = standard.fit_transform(x_train)\n",
        "xs_test = standard.fit_transform(x_test)"
      ],
      "metadata": {
        "id": "zMcMlKHWyxyK"
      },
      "execution_count": 92,
      "outputs": []
    },
    {
      "cell_type": "markdown",
      "source": [
        "# PCA"
      ],
      "metadata": {
        "id": "NGSw6BwrykXn"
      }
    },
    {
      "cell_type": "code",
      "source": [
        "from sklearn.decomposition import PCA"
      ],
      "metadata": {
        "id": "UXnFaxHPylJG"
      },
      "execution_count": 94,
      "outputs": []
    },
    {
      "cell_type": "code",
      "source": [
        "pca = PCA(n_components=2)\n",
        "X = pca.fit_transform(xs_train)"
      ],
      "metadata": {
        "id": "ctuJa74byqA2"
      },
      "execution_count": 131,
      "outputs": []
    },
    {
      "cell_type": "code",
      "source": [
        "X"
      ],
      "metadata": {
        "colab": {
          "base_uri": "https://localhost:8080/"
        },
        "id": "1M7hZswh2C9G",
        "outputId": "253e1c72-f0aa-4159-81f4-c33fac2f73cb"
      },
      "execution_count": 132,
      "outputs": [
        {
          "output_type": "execute_result",
          "data": {
            "text/plain": [
              "array([[-1.37530415, -2.82458766],\n",
              "       [-1.57919552,  1.59738889],\n",
              "       [-1.52858159,  0.90730686],\n",
              "       ...,\n",
              "       [-1.66372179, -1.45590378],\n",
              "       [-1.38923039,  1.48708642],\n",
              "       [-1.57631111,  1.67238174]])"
            ]
          },
          "metadata": {},
          "execution_count": 132
        }
      ]
    },
    {
      "cell_type": "code",
      "source": [
        "Df = pd.DataFrame(data = X\n",
        "             , columns = ['principal component 1', 'principal component 2'])"
      ],
      "metadata": {
        "id": "uLqZzKnhy9I1"
      },
      "execution_count": 133,
      "outputs": []
    },
    {
      "cell_type": "code",
      "source": [
        "Df"
      ],
      "metadata": {
        "colab": {
          "base_uri": "https://localhost:8080/",
          "height": 424
        },
        "id": "lDpJiDEG2SiO",
        "outputId": "d6da2bcb-4bc5-454a-bd52-484dc4dd9945"
      },
      "execution_count": 134,
      "outputs": [
        {
          "output_type": "execute_result",
          "data": {
            "text/plain": [
              "       principal component 1  principal component 2\n",
              "0                  -1.375304              -2.824588\n",
              "1                  -1.579196               1.597389\n",
              "2                  -1.528582               0.907307\n",
              "3                  -1.163928               1.467718\n",
              "4                  -1.157154               1.590172\n",
              "...                      ...                    ...\n",
              "14322              -0.404935               0.623291\n",
              "14323               2.206270              -2.020768\n",
              "14324              -1.663722              -1.455904\n",
              "14325              -1.389230               1.487086\n",
              "14326              -1.576311               1.672382\n",
              "\n",
              "[14327 rows x 2 columns]"
            ],
            "text/html": [
              "\n",
              "  <div id=\"df-793e964b-830f-4dcc-9f2c-82776ade3db7\">\n",
              "    <div class=\"colab-df-container\">\n",
              "      <div>\n",
              "<style scoped>\n",
              "    .dataframe tbody tr th:only-of-type {\n",
              "        vertical-align: middle;\n",
              "    }\n",
              "\n",
              "    .dataframe tbody tr th {\n",
              "        vertical-align: top;\n",
              "    }\n",
              "\n",
              "    .dataframe thead th {\n",
              "        text-align: right;\n",
              "    }\n",
              "</style>\n",
              "<table border=\"1\" class=\"dataframe\">\n",
              "  <thead>\n",
              "    <tr style=\"text-align: right;\">\n",
              "      <th></th>\n",
              "      <th>principal component 1</th>\n",
              "      <th>principal component 2</th>\n",
              "    </tr>\n",
              "  </thead>\n",
              "  <tbody>\n",
              "    <tr>\n",
              "      <th>0</th>\n",
              "      <td>-1.375304</td>\n",
              "      <td>-2.824588</td>\n",
              "    </tr>\n",
              "    <tr>\n",
              "      <th>1</th>\n",
              "      <td>-1.579196</td>\n",
              "      <td>1.597389</td>\n",
              "    </tr>\n",
              "    <tr>\n",
              "      <th>2</th>\n",
              "      <td>-1.528582</td>\n",
              "      <td>0.907307</td>\n",
              "    </tr>\n",
              "    <tr>\n",
              "      <th>3</th>\n",
              "      <td>-1.163928</td>\n",
              "      <td>1.467718</td>\n",
              "    </tr>\n",
              "    <tr>\n",
              "      <th>4</th>\n",
              "      <td>-1.157154</td>\n",
              "      <td>1.590172</td>\n",
              "    </tr>\n",
              "    <tr>\n",
              "      <th>...</th>\n",
              "      <td>...</td>\n",
              "      <td>...</td>\n",
              "    </tr>\n",
              "    <tr>\n",
              "      <th>14322</th>\n",
              "      <td>-0.404935</td>\n",
              "      <td>0.623291</td>\n",
              "    </tr>\n",
              "    <tr>\n",
              "      <th>14323</th>\n",
              "      <td>2.206270</td>\n",
              "      <td>-2.020768</td>\n",
              "    </tr>\n",
              "    <tr>\n",
              "      <th>14324</th>\n",
              "      <td>-1.663722</td>\n",
              "      <td>-1.455904</td>\n",
              "    </tr>\n",
              "    <tr>\n",
              "      <th>14325</th>\n",
              "      <td>-1.389230</td>\n",
              "      <td>1.487086</td>\n",
              "    </tr>\n",
              "    <tr>\n",
              "      <th>14326</th>\n",
              "      <td>-1.576311</td>\n",
              "      <td>1.672382</td>\n",
              "    </tr>\n",
              "  </tbody>\n",
              "</table>\n",
              "<p>14327 rows × 2 columns</p>\n",
              "</div>\n",
              "      <button class=\"colab-df-convert\" onclick=\"convertToInteractive('df-793e964b-830f-4dcc-9f2c-82776ade3db7')\"\n",
              "              title=\"Convert this dataframe to an interactive table.\"\n",
              "              style=\"display:none;\">\n",
              "        \n",
              "  <svg xmlns=\"http://www.w3.org/2000/svg\" height=\"24px\"viewBox=\"0 0 24 24\"\n",
              "       width=\"24px\">\n",
              "    <path d=\"M0 0h24v24H0V0z\" fill=\"none\"/>\n",
              "    <path d=\"M18.56 5.44l.94 2.06.94-2.06 2.06-.94-2.06-.94-.94-2.06-.94 2.06-2.06.94zm-11 1L8.5 8.5l.94-2.06 2.06-.94-2.06-.94L8.5 2.5l-.94 2.06-2.06.94zm10 10l.94 2.06.94-2.06 2.06-.94-2.06-.94-.94-2.06-.94 2.06-2.06.94z\"/><path d=\"M17.41 7.96l-1.37-1.37c-.4-.4-.92-.59-1.43-.59-.52 0-1.04.2-1.43.59L10.3 9.45l-7.72 7.72c-.78.78-.78 2.05 0 2.83L4 21.41c.39.39.9.59 1.41.59.51 0 1.02-.2 1.41-.59l7.78-7.78 2.81-2.81c.8-.78.8-2.07 0-2.86zM5.41 20L4 18.59l7.72-7.72 1.47 1.35L5.41 20z\"/>\n",
              "  </svg>\n",
              "      </button>\n",
              "      \n",
              "  <style>\n",
              "    .colab-df-container {\n",
              "      display:flex;\n",
              "      flex-wrap:wrap;\n",
              "      gap: 12px;\n",
              "    }\n",
              "\n",
              "    .colab-df-convert {\n",
              "      background-color: #E8F0FE;\n",
              "      border: none;\n",
              "      border-radius: 50%;\n",
              "      cursor: pointer;\n",
              "      display: none;\n",
              "      fill: #1967D2;\n",
              "      height: 32px;\n",
              "      padding: 0 0 0 0;\n",
              "      width: 32px;\n",
              "    }\n",
              "\n",
              "    .colab-df-convert:hover {\n",
              "      background-color: #E2EBFA;\n",
              "      box-shadow: 0px 1px 2px rgba(60, 64, 67, 0.3), 0px 1px 3px 1px rgba(60, 64, 67, 0.15);\n",
              "      fill: #174EA6;\n",
              "    }\n",
              "\n",
              "    [theme=dark] .colab-df-convert {\n",
              "      background-color: #3B4455;\n",
              "      fill: #D2E3FC;\n",
              "    }\n",
              "\n",
              "    [theme=dark] .colab-df-convert:hover {\n",
              "      background-color: #434B5C;\n",
              "      box-shadow: 0px 1px 3px 1px rgba(0, 0, 0, 0.15);\n",
              "      filter: drop-shadow(0px 1px 2px rgba(0, 0, 0, 0.3));\n",
              "      fill: #FFFFFF;\n",
              "    }\n",
              "  </style>\n",
              "\n",
              "      <script>\n",
              "        const buttonEl =\n",
              "          document.querySelector('#df-793e964b-830f-4dcc-9f2c-82776ade3db7 button.colab-df-convert');\n",
              "        buttonEl.style.display =\n",
              "          google.colab.kernel.accessAllowed ? 'block' : 'none';\n",
              "\n",
              "        async function convertToInteractive(key) {\n",
              "          const element = document.querySelector('#df-793e964b-830f-4dcc-9f2c-82776ade3db7');\n",
              "          const dataTable =\n",
              "            await google.colab.kernel.invokeFunction('convertToInteractive',\n",
              "                                                     [key], {});\n",
              "          if (!dataTable) return;\n",
              "\n",
              "          const docLinkHtml = 'Like what you see? Visit the ' +\n",
              "            '<a target=\"_blank\" href=https://colab.research.google.com/notebooks/data_table.ipynb>data table notebook</a>'\n",
              "            + ' to learn more about interactive tables.';\n",
              "          element.innerHTML = '';\n",
              "          dataTable['output_type'] = 'display_data';\n",
              "          await google.colab.output.renderOutput(dataTable, element);\n",
              "          const docLink = document.createElement('div');\n",
              "          docLink.innerHTML = docLinkHtml;\n",
              "          element.appendChild(docLink);\n",
              "        }\n",
              "      </script>\n",
              "    </div>\n",
              "  </div>\n",
              "  "
            ]
          },
          "metadata": {},
          "execution_count": 134
        }
      ]
    },
    {
      "cell_type": "code",
      "source": [
        "Df['target'] = y"
      ],
      "metadata": {
        "id": "QOy6zMcdzRqd"
      },
      "execution_count": 135,
      "outputs": []
    },
    {
      "cell_type": "code",
      "source": [
        "Df['target'].unique()"
      ],
      "metadata": {
        "colab": {
          "base_uri": "https://localhost:8080/"
        },
        "id": "jJ_O2czY4lKU",
        "outputId": "e707270b-7a12-40b1-9248-0e9fbba2265c"
      },
      "execution_count": 136,
      "outputs": [
        {
          "output_type": "execute_result",
          "data": {
            "text/plain": [
              "array([1, 0])"
            ]
          },
          "metadata": {},
          "execution_count": 136
        }
      ]
    },
    {
      "cell_type": "code",
      "source": [
        "fig = plt.figure(figsize = (8,8))\n",
        "ax = fig.add_subplot(1,1,1)\n",
        "trgt = [0, 1]\n",
        "colors = ['b', 'black']\n",
        "for i,j in zip(trgt, colors):\n",
        "  index = Df['target'] == i\n",
        "  ax.scatter(Df.loc[index, 'principal component 1']\n",
        "               , Df.loc[index, 'principal component 2']\n",
        "               , c = j, s=50)"
      ],
      "metadata": {
        "colab": {
          "base_uri": "https://localhost:8080/",
          "height": 483
        },
        "id": "Ml-RfhD60RJW",
        "outputId": "49c77842-74a9-4df9-b800-caae455d7dd2"
      },
      "execution_count": 137,
      "outputs": [
        {
          "output_type": "display_data",
          "data": {
            "text/plain": [
              "<Figure size 576x576 with 1 Axes>"
            ],
            "image/png": "[encoded data removed]"
          },
          "metadata": {
            "needs_background": "light"
          }
        }
      ]
    },
    {
      "cell_type": "markdown",
      "source": [
        "# Random Forest Classifier"
      ],
      "metadata": {
        "id": "7iXr_05a5luc"
      }
    },
    {
      "cell_type": "code",
      "source": [
        "from sklearn.ensemble import RandomForestClassifier\n",
        "RF_model = RandomForestClassifier()"
      ],
      "metadata": {
        "id": "D0YwCcs30ydX"
      },
      "execution_count": 138,
      "outputs": []
    },
    {
      "cell_type": "code",
      "source": [
        "RF_model.fit(xs_train, y_train)\n",
        "RF_pred = RF_model.predict(xs_test)"
      ],
      "metadata": {
        "id": "IFxjDzHD5uo6"
      },
      "execution_count": 104,
      "outputs": []
    },
    {
      "cell_type": "markdown",
      "source": [
        "# Decision Tree Classifier"
      ],
      "metadata": {
        "id": "UKT9pyTS50-C"
      }
    },
    {
      "cell_type": "code",
      "source": [
        "from sklearn.tree import DecisionTreeClassifier\n",
        "DT_model = DecisionTreeClassifier()"
      ],
      "metadata": {
        "id": "fyf4kW_c5zqi"
      },
      "execution_count": 105,
      "outputs": []
    },
    {
      "cell_type": "code",
      "source": [
        "DT_model.fit(xs_train, y_train)\n",
        "DT_pred = DT_model.predict(xs_test)"
      ],
      "metadata": {
        "id": "Olyk5dx157ZA"
      },
      "execution_count": 107,
      "outputs": []
    },
    {
      "cell_type": "markdown",
      "source": [
        "# SVC Model"
      ],
      "metadata": {
        "id": "E3y9wgNy6EI4"
      }
    },
    {
      "cell_type": "code",
      "source": [
        "from sklearn import svm\n",
        "svm_model = svm.SVC()"
      ],
      "metadata": {
        "id": "tl6GM5nF6AL_"
      },
      "execution_count": 108,
      "outputs": []
    },
    {
      "cell_type": "code",
      "source": [
        "svm_model.fit(xs_train, y_train)\n",
        "svm_pred = svm_model.predict(xs_test)"
      ],
      "metadata": {
        "id": "p5ix4AeO6Ivr"
      },
      "execution_count": 109,
      "outputs": []
    },
    {
      "cell_type": "markdown",
      "source": [
        "# Model's Results"
      ],
      "metadata": {
        "id": "_7kchaGV6Qws"
      }
    },
    {
      "cell_type": "code",
      "source": [
        "from sklearn.metrics import accuracy_score, confusion_matrix, classification_report\n"
      ],
      "metadata": {
        "id": "u92fFg5l6Yqj"
      },
      "execution_count": 110,
      "outputs": []
    },
    {
      "cell_type": "code",
      "source": [
        "# Random Forest Classifier\n",
        "print('Accuracy value', accuracy_score(RF_pred, y_test)  )\n",
        "print('confusion_matrix \\n', confusion_matrix(RF_pred, y_test))\n",
        "print('\\n classification_report \\n', classification_report(RF_pred, y_test))"
      ],
      "metadata": {
        "colab": {
          "base_uri": "https://localhost:8080/"
        },
        "id": "k4EeXKsA6OID",
        "outputId": "724715de-9b3b-4d2e-84f5-3df27f3773c9"
      },
      "execution_count": 111,
      "outputs": [
        {
          "output_type": "stream",
          "name": "stdout",
          "text": [
            "Accuracy value 0.9959290017912392\n",
            "confusion_matrix \n",
            " [[4471   25]\n",
            " [   0 1645]]\n",
            "\n",
            " classification_report \n",
            "               precision    recall  f1-score   support\n",
            "\n",
            "           0       1.00      0.99      1.00      4496\n",
            "           1       0.99      1.00      0.99      1645\n",
            "\n",
            "    accuracy                           1.00      6141\n",
            "   macro avg       0.99      1.00      0.99      6141\n",
            "weighted avg       1.00      1.00      1.00      6141\n",
            "\n"
          ]
        }
      ]
    },
    {
      "cell_type": "code",
      "source": [
        "# Decision Tree Classifier\n",
        "print('Accuracy value', accuracy_score(DT_pred, y_test)  )\n",
        "print('confusion_matrix \\n', confusion_matrix(DT_pred, y_test))\n",
        "print('\\n classification_report \\n', classification_report(DT_pred, y_test))"
      ],
      "metadata": {
        "colab": {
          "base_uri": "https://localhost:8080/"
        },
        "id": "3F_c8X6v6orr",
        "outputId": "fdefa856-a4f5-4b59-8c1d-48ac7d74d2b1"
      },
      "execution_count": 113,
      "outputs": [
        {
          "output_type": "stream",
          "name": "stdout",
          "text": [
            "Accuracy value 0.9959290017912392\n",
            "confusion_matrix \n",
            " [[4471   25]\n",
            " [   0 1645]]\n",
            "\n",
            " classification_report \n",
            "               precision    recall  f1-score   support\n",
            "\n",
            "           0       1.00      0.99      1.00      4496\n",
            "           1       0.99      1.00      0.99      1645\n",
            "\n",
            "    accuracy                           1.00      6141\n",
            "   macro avg       0.99      1.00      0.99      6141\n",
            "weighted avg       1.00      1.00      1.00      6141\n",
            "\n"
          ]
        }
      ]
    },
    {
      "cell_type": "code",
      "source": [
        "print('Accuracy value', accuracy_score(svm_pred, y_test)  )\n",
        "print('confusion_matrix \\n', confusion_matrix(svm_pred, y_test))\n",
        "print('\\n classification_report \\n', classification_report(svm_pred, y_test))"
      ],
      "metadata": {
        "colab": {
          "base_uri": "https://localhost:8080/"
        },
        "id": "Ywp5S2uF61J6",
        "outputId": "a3fa8544-6f3b-4b35-e947-bd0802d0bb46"
      },
      "execution_count": 114,
      "outputs": [
        {
          "output_type": "stream",
          "name": "stdout",
          "text": [
            "Accuracy value 0.9804592085979482\n",
            "confusion_matrix \n",
            " [[4448   97]\n",
            " [  23 1573]]\n",
            "\n",
            " classification_report \n",
            "               precision    recall  f1-score   support\n",
            "\n",
            "           0       0.99      0.98      0.99      4545\n",
            "           1       0.94      0.99      0.96      1596\n",
            "\n",
            "    accuracy                           0.98      6141\n",
            "   macro avg       0.97      0.98      0.97      6141\n",
            "weighted avg       0.98      0.98      0.98      6141\n",
            "\n"
          ]
        }
      ]
    },
    {
      "cell_type": "code",
      "source": [
        ""
      ],
      "metadata": {
        "id": "I-fWNl3OVPtO"
      },
      "execution_count": 69,
      "outputs": []
    }
  ]
}